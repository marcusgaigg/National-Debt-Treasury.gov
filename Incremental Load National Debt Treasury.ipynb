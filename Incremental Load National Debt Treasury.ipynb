{
 "cells": [
  {
   "cell_type": "code",
   "execution_count": 0,
   "metadata": {
    "application/vnd.databricks.v1+cell": {
     "cellMetadata": {
      "byteLimit": 2048000,
      "rowLimit": 10000
     },
     "inputWidgets": {},
     "nuid": "196cec5d-332e-4532-9d11-35eb4dec7c54",
     "showTitle": false,
     "tableResultSettingsMap": {},
     "title": ""
    }
   },
   "outputs": [],
   "source": [
    "import requests\n",
    "import pandas as pd\n",
    "import numpy as np\n",
    "from datetime import datetime, timedelta\n",
    "from pyspark.sql import SparkSession\n",
    "from pyspark.sql.functions import col, max as spark_max\n",
    "\n",
    "# Spark session\n",
    "spark = SparkSession.builder.getOrCreate()\n",
    "\n",
    "# JDBC Config\n",
    "jdbc_url = \"jdbc:sqlserver://dataillustrated.database.windows.net:1433;database=dataillustratedsqdatabase\"\n",
    "table_name = \"dbo.NationalDebt\"\n",
    "jdbc_properties = {\n",
    "    \"user\": \"CloudSAdaad1f09\",\n",
    "    \"password\": \"StFitw289@!&\",\n",
    "    \"driver\": \"com.microsoft.sqlserver.jdbc.SQLServerDriver\"\n",
    "}\n",
    "\n",
    "# 1. Get latest record_date from SQL using Spark JDBC\n",
    "df_sql = spark.read.jdbc(url=jdbc_url, table=table_name, properties=jdbc_properties)\n",
    "latest_date_row = df_sql.select(spark_max(col(\"record_date\")).alias(\"max_date\")).collect()[0]\n",
    "latest_date = latest_date_row[\"max_date\"] if isinstance(latest_date_row[\"max_date\"], datetime) else datetime.strptime(latest_date_row[\"max_date\"], '%Y-%m-%d')\n",
    "\n",
    "# If table is empty, use a safe fallback\n",
    "if latest_date is None:\n",
    "    latest_date = datetime.strptime('2000-01-01', '%Y-%m-%d')\n",
    "start_date = (latest_date + timedelta(days=1)).strftime('%Y-%m-%d')\n",
    "\n",
    "# 2. Pull data from API after latest date\n",
    "base_url = \"https://api.fiscaldata.treasury.gov/services/api/fiscal_service/v2/accounting/od/debt_to_penny\"\n",
    "page_size = 100\n",
    "page_number = 1\n",
    "all_data = []\n",
    "\n",
    "while True:\n",
    "    params = {\n",
    "        \"page[number]\": page_number,\n",
    "        \"page[size]\": page_size,\n",
    "        \"filter\": f\"record_date:gte:{start_date}\"\n",
    "    }\n",
    "    response = requests.get(base_url, params=params)\n",
    "\n",
    "    if response.status_code != 200:\n",
    "        print(f\"Error fetching data: {response.status_code}\")\n",
    "        break\n",
    "\n",
    "    records = response.json().get(\"data\", [])\n",
    "    if not records:\n",
    "        print(\"No new records.\")\n",
    "        break\n",
    "\n",
    "    all_data.extend(records)\n",
    "    print(f\"Fetched page {page_number}, records: {len(records)}\")\n",
    "    page_number += 1\n",
    "\n",
    "if not all_data:\n",
    "    print(\"No new data to append.\")\n",
    "    exit()\n",
    "\n",
    "# 3. Convert and clean data\n",
    "df_pd = pd.DataFrame(all_data)\n",
    "\n",
    "decimal_cols = [\"debt_held_public_amt\", \"intragov_hold_amt\", \"tot_pub_debt_out_amt\"]\n",
    "int_cols = [\"src_line_nbr\", \"record_fiscal_year\", \"record_fiscal_quarter\", \"record_calendar_year\", \"record_calendar_quarter\"]\n",
    "\n",
    "for col in decimal_cols:\n",
    "    df_pd[col] = pd.to_numeric(df_pd[col], errors='coerce').replace({np.nan: None})\n",
    "\n",
    "for col in int_cols:\n",
    "    df_pd[col] = pd.to_numeric(df_pd[col], errors='coerce').astype('Int64')\n",
    "\n",
    "# 4. Create Spark DataFrame and append to SQL\n",
    "df_spark = spark.createDataFrame(df_pd)\n",
    "\n",
    "df_spark.write \\\n",
    "    .mode(\"append\") \\\n",
    "    .jdbc(url=jdbc_url, table=table_name, properties=jdbc_properties)\n",
    "\n",
    "print(\"New records successfully appended.\")\n"
   ]
  }
 ],
 "metadata": {
  "application/vnd.databricks.v1+notebook": {
   "computePreferences": null,
   "dashboards": [],
   "environmentMetadata": {
    "base_environment": "",
    "environment_version": "2"
   },
   "inputWidgetPreferences": null,
   "language": "python",
   "notebookMetadata": {
    "pythonIndentUnit": 4
   },
   "notebookName": "Incremental Load National Debt Treasury",
   "widgets": {}
  },
  "language_info": {
   "name": "python"
  }
 },
 "nbformat": 4,
 "nbformat_minor": 0
}

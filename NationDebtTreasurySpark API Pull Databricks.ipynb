{
 "cells": [
  {
   "cell_type": "code",
   "execution_count": 0,
   "metadata": {
    "application/vnd.databricks.v1+cell": {
     "cellMetadata": {
      "byteLimit": 2048000,
      "rowLimit": 10000
     },
     "inputWidgets": {},
     "nuid": "5167f788-e982-48b3-88fd-74d544e8a545",
     "showTitle": false,
     "tableResultSettingsMap": {},
     "title": ""
    }
   },
   "outputs": [],
   "source": [
    "import requests\n",
    "import pandas as pd\n",
    "import numpy as np\n",
    "\n",
    "# API settings\n",
    "base_url = \"https://api.fiscaldata.treasury.gov/services/api/fiscal_service/v2/accounting/od/debt_to_penny\"\n",
    "page_size = 100\n",
    "page_number = 1\n",
    "all_data = []\n",
    "\n",
    "# Pagination loop\n",
    "while True:\n",
    "    params = {\"page[number]\": page_number, \"page[size]\": page_size}\n",
    "    response = requests.get(base_url, params=params)\n",
    "\n",
    "    if response.status_code != 200:\n",
    "        print(f\"Error: Status {response.status_code}\")\n",
    "        break\n",
    "\n",
    "    data = response.json()\n",
    "    records = data.get(\"data\", [])\n",
    "\n",
    "    if not records:\n",
    "        print(\"End of Data.\")\n",
    "        break\n",
    "\n",
    "    all_data.extend(records)\n",
    "    print(f\"Fetched page {page_number}, records: {len(records)}\")\n",
    "    page_number += 1\n",
    "\n",
    "# Convert to DataFrame\n",
    "df_pd = pd.DataFrame(all_data)\n",
    "\n",
    "# Rename and cast columns\n",
    "df_pd = df_pd.rename(columns={\n",
    "    \"record_date\": \"record_date\",\n",
    "    \"debt_held_public_amt\": \"debt_held_public_amt\",\n",
    "    \"intragov_hold_amt\": \"intragov_hold_amt\",\n",
    "    \"tot_pub_debt_out_amt\": \"tot_pub_debt_out_amt\",\n",
    "    \"src_line_nbr\": \"src_line_nbr\",\n",
    "    \"record_fiscal_year\": \"record_fiscal_year\",\n",
    "    \"record_fiscal_quarter\": \"record_fiscal_quarter\",\n",
    "    \"record_calendar_year\": \"record_calendar_year\",\n",
    "    \"record_calendar_quarter\": \"record_calendar_quarter\",\n",
    "    \"record_calendar_month\": \"record_calendar_month\",\n",
    "    \"record_calendar_day\": \"record_calendar_day\"\n",
    "})\n",
    "\n",
    "# Handle numeric and null values\n",
    "decimal_cols = [\"debt_held_public_amt\", \"intragov_hold_amt\", \"tot_pub_debt_out_amt\"]\n",
    "int_cols = [\"src_line_nbr\", \"record_fiscal_year\", \"record_fiscal_quarter\", \"record_calendar_year\", \"record_calendar_quarter\"]\n",
    "\n",
    "for col in decimal_cols:\n",
    "    df_pd[col] = pd.to_numeric(df_pd[col], errors='coerce').replace({np.nan: None})\n",
    "\n",
    "for col in int_cols:\n",
    "    df_pd[col] = pd.to_numeric(df_pd[col], errors='coerce').astype('Int64')\n",
    "\n",
    "# Convert to Spark DataFrame\n",
    "df_spark = spark.createDataFrame(df_pd)\n",
    "\n",
    "# Write to Delta Lake table in Databricks 'default' database\n",
    "df_spark.write.format(\"delta\").mode(\"overwrite\").saveAsTable(\"default.NationalDebtDataAPI\")"
   ]
  }
 ],
 "metadata": {
  "application/vnd.databricks.v1+notebook": {
   "computePreferences": null,
   "dashboards": [],
   "environmentMetadata": null,
   "inputWidgetPreferences": null,
   "language": "python",
   "notebookMetadata": {
    "pythonIndentUnit": 4
   },
   "notebookName": "NationDebtTreasurySpark API Pull Databricks",
   "widgets": {}
  },
  "kernelspec": {
   "display_name": "Python 3",
   "language": "python",
   "name": "python3"
  },
  "language_info": {
   "name": "python"
  }
 },
 "nbformat": 4,
 "nbformat_minor": 0
}
